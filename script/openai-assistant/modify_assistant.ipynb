{
 "cells": [
  {
   "cell_type": "code",
   "execution_count": 3,
   "metadata": {
    "collapsed": true,
    "pycharm": {
     "is_executing": true,
     "name": "#%%\n"
    }
   },
   "outputs": [],
   "source": [
    "import json as js\n",
    "from openai import OpenAI\n"
   ]
  },
  {
   "cell_type": "code",
   "execution_count": 14,
   "metadata": {
    "collapsed": false,
    "pycharm": {
     "is_executing": true,
     "name": "#%%\n"
    }
   },
   "outputs": [],
   "source": [
    "api_key = None\n",
    "# Note to remove abc for valid one\n",
    "with open(\"../../.api-key\", \"r\") as f:\n",
    "    api_key = f.read().splitlines()[0]\n",
    "api_key+=\"abc\""
   ]
  },
  {
   "cell_type": "code",
   "execution_count": 13,
   "metadata": {},
   "outputs": [],
   "source": [
    "client = OpenAI(api_key = api_key)\n"
   ]
  },
  {
   "cell_type": "markdown",
   "metadata": {},
   "source": [
    "**Find the assistant with name locally**"
   ]
  },
  {
   "cell_type": "code",
   "execution_count": 5,
   "metadata": {},
   "outputs": [
    {
     "name": "stdout",
     "output_type": "stream",
     "text": [
      "Assistant name matched:\n",
      "Assistant ID: asst_abc456\n",
      "Target Assistant Name: My Assistant\n"
     ]
    }
   ],
   "source": [
    "###### Modify this #####\n",
    "target_assistant_name = \"My Assistant\"\n",
    "########## END #########\n",
    "\n",
    "file_path = \"./data/assistant_list.json\"\n",
    "try:\n",
    "    with open(file_path, 'r') as file:\n",
    "        list_file = js.load(file)\n",
    "    \n",
    "    if not list_file:\n",
    "        print(\"No Assistant Exists\")\n",
    "    else:\n",
    "        for item in list_file.get('data', []):\n",
    "            if item.get('name') == target_assistant_name:\n",
    "                assistant_id = item.get(\"id\")\n",
    "                print(\"Assistant name matched:\")\n",
    "                print(f\"Assistant ID: {assistant_id}\")\n",
    "                print(f\"Target Assistant Name: {target_assistant_name}\")\n",
    "\n",
    "except FileNotFoundError:\n",
    "    print(f\"File not found: {file_path}\")\n",
    "except js.JSONDecodeError:\n",
    "    print(\"Invalid JSON file.\")\n",
    "except Exception as e:\n",
    "    print(f\"An unexpected error occurred: {e}\")\n"
   ]
  },
  {
   "cell_type": "markdown",
   "metadata": {},
   "source": [
    "**Retrieve the desired Assistant**"
   ]
  },
  {
   "cell_type": "code",
   "execution_count": null,
   "metadata": {},
   "outputs": [],
   "source": [
    "# Function to check for the assistant ID and return the desired assistant\n",
    "def check_assistant_id(json_data, assistant_id):\n",
    "    for item in json_data.get('data', []):\n",
    "        if item.get('id') == assistant_id:\n",
    "            print(\"Assistant ID matched. Desired Assistant is returned.\")\n",
    "            return client.beta.assistants.retrieve(\"assistant_id\")\n",
    "    \n",
    "    return None\n",
    "\n",
    "list_assistants = client.beta.assistants.list(\n",
    "    order=\"desc\",\n",
    "    limit=\"5\",\n",
    ")\n",
    "\n",
    "if len(list_assistants[\"data\"]) == 0:\n",
    "    print(\"No Assistant Exists\")\n",
    "else:\n",
    "    my_assistant = check_assistant_id(list_assistants, assistant_id)\n",
    "\n",
    "if not my_assistant:\n",
    "    print(\"No such Assistant found.\")\n",
    "else:\n",
    "    print(my_assistant)\n",
    "\n",
    "my_assistant_id = my_assistant.get('id')"
   ]
  },
  {
   "cell_type": "markdown",
   "metadata": {},
   "source": [
    "**Add your modified information below**"
   ]
  },
  {
   "cell_type": "code",
   "execution_count": 1,
   "metadata": {},
   "outputs": [],
   "source": [
    "new_description = \"\"\"\"\"\"\n",
    "new_instructions = \"\"\"\"\"\"\n",
    "new_name = \"Scientific-Research-Idea-Generator\"\n",
    "new_tools = [{\"type\": [\"code_interpreter\", \"retrieval\", \"function\"]}]\n",
    "new_model = \"gpt-4\"\n",
    "new_file_ids = []"
   ]
  },
  {
   "cell_type": "code",
   "execution_count": null,
   "metadata": {},
   "outputs": [],
   "source": [
    "my_updated_assistant = client.beta.assistants.update(\n",
    "  my_assistant_id,\n",
    "  description=new_description,\n",
    "  instructions=new_instructions,\n",
    "  name=new_name,\n",
    "  tools=new_tools,\n",
    "  model=new_model,\n",
    "  file_ids=new_file_ids\n",
    ")"
   ]
  }
 ],
 "metadata": {
  "kernelspec": {
   "display_name": "medical-chat",
   "language": "python",
   "name": "medical-chat"
  },
  "language_info": {
   "codemirror_mode": {
    "name": "ipython",
    "version": 3
   },
   "file_extension": ".py",
   "mimetype": "text/x-python",
   "name": "python",
   "nbconvert_exporter": "python",
   "pygments_lexer": "ipython3",
   "version": "3.10.13"
  }
 },
 "nbformat": 4,
 "nbformat_minor": 0
}
