{
 "cells": [
  {
   "cell_type": "code",
   "execution_count": 3,
   "metadata": {
    "collapsed": true,
    "pycharm": {
     "is_executing": true,
     "name": "#%%\n"
    }
   },
   "outputs": [],
   "source": [
    "import json as js\n",
    "from openai import OpenAI\n",
    "from src.assistant import *"
   ]
  },
  {
   "cell_type": "code",
   "execution_count": 14,
   "metadata": {
    "collapsed": false,
    "pycharm": {
     "is_executing": true,
     "name": "#%%\n"
    }
   },
   "outputs": [],
   "source": [
    "api_key = None\n",
    "with open(\"../../.api-key\", \"r\") as f:\n",
    "    api_key = f.read().splitlines()[0]\n",
    "\n",
    "## TODO: remove this line to get the original api-key ##\n",
    "api_key+=\"abc\"\n",
    "#################### END TODO ##########################\n",
    "\n",
    "client = OpenAI(api_key = api_key)"
   ]
  },
  {
   "cell_type": "markdown",
   "metadata": {},
   "source": [
    "**Find the assistant with name locally**"
   ]
  },
  {
   "cell_type": "code",
   "execution_count": 5,
   "metadata": {},
   "outputs": [
    {
     "name": "stdout",
     "output_type": "stream",
     "text": [
      "Assistant name matched:\n",
      "Assistant ID: asst_abc456\n",
      "Target Assistant Name: My Assistant\n"
     ]
    }
   ],
   "source": [
    "###### Modify this #####\n",
    "target_assistant_name = \"My Assistant\"\n",
    "########## END #########\n",
    "\n",
    "file_path = \"./data/assistant_list.json\"\n",
    "my_assistant_id = find_assistant_by_name(file_path, target_assistant_name)"
   ]
  },
  {
   "cell_type": "markdown",
   "metadata": {},
   "source": [
    "**Retrieve the desired Assistant**"
   ]
  },
  {
   "cell_type": "code",
   "execution_count": null,
   "metadata": {},
   "outputs": [],
   "source": [
    "list_assistants = client.beta.assistants.list(\n",
    "    order=\"desc\",\n",
    "    limit=\"5\",\n",
    ")\n",
    "\n",
    "if len(list_assistants[\"data\"]) == 0:\n",
    "    print(\"No Assistant Exists\")\n",
    "else:\n",
    "    my_assistant = client.beta.assistants.retrieve(my_assistant_id)\n",
    "\n",
    "if not my_assistant:\n",
    "    print(\"No such Assistant found.\")\n",
    "else:\n",
    "    print(my_assistant)"
   ]
  },
  {
   "cell_type": "markdown",
   "metadata": {},
   "source": [
    "**Add your modified information below**"
   ]
  },
  {
   "cell_type": "code",
   "execution_count": 1,
   "metadata": {},
   "outputs": [],
   "source": [
    "new_description = \"\"\"\"\"\"\n",
    "new_instructions = \"\"\"\"\"\"\n",
    "new_name = \"Scientific-Research-Idea-Generator\"\n",
    "new_tools = [{\"type\": [\"code_interpreter\", \"retrieval\", \"function\"]}]\n",
    "new_model = \"gpt-4\"\n",
    "new_file_ids = []"
   ]
  },
  {
   "cell_type": "code",
   "execution_count": null,
   "metadata": {},
   "outputs": [],
   "source": [
    "my_updated_assistant = client.beta.assistants.update(\n",
    "  my_assistant_id,\n",
    "  description=new_description,\n",
    "  instructions=new_instructions,\n",
    "  name=new_name,\n",
    "  tools=new_tools,\n",
    "  model=new_model,\n",
    "  file_ids=new_file_ids\n",
    ")"
   ]
  },
  {
   "cell_type": "code",
   "execution_count": null,
   "metadata": {},
   "outputs": [],
   "source": [
    "file_path = \"./data/assistant_list.json\"\n",
    "updated_list, _ = manage_assistant_file(file_path, my_updated_assistant)"
   ]
  }
 ],
 "metadata": {
  "kernelspec": {
   "display_name": "medical-chat",
   "language": "python",
   "name": "medical-chat"
  },
  "language_info": {
   "codemirror_mode": {
    "name": "ipython",
    "version": 3
   },
   "file_extension": ".py",
   "mimetype": "text/x-python",
   "name": "python",
   "nbconvert_exporter": "python",
   "pygments_lexer": "ipython3",
   "version": "3.10.13"
  }
 },
 "nbformat": 4,
 "nbformat_minor": 0
}
