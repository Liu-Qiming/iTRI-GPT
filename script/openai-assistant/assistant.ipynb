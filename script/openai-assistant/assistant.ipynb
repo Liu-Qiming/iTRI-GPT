{
 "cells": [
  {
   "cell_type": "code",
   "execution_count": 3,
   "metadata": {},
   "outputs": [],
   "source": [
    "import os\n",
    "\n",
    "import json as js\n",
    "from openai import OpenAI\n"
   ]
  },
  {
   "cell_type": "code",
   "execution_count": 2,
   "metadata": {},
   "outputs": [],
   "source": [
    "api_key = None\n",
    "with open(\"../../.api-key\", \"r\") as f:\n",
    "    api_key = f.read().splitlines()[0]\n",
    "    \n",
    "## TODO: remove this line to get the original api-key ##\n",
    "api_key+=\"abc\"\n",
    "#################### END TODO ##########################\n",
    "\n",
    "client = OpenAI(api_key = api_key)"
   ]
  },
  {
   "cell_type": "markdown",
   "metadata": {},
   "source": [
    "**Setup assistant**"
   ]
  },
  {
   "cell_type": "code",
   "execution_count": null,
   "metadata": {},
   "outputs": [],
   "source": [
    "description = \"\"\"\"\"\"\n",
    "instructions = \"\"\"\"\"\"\n",
    "name = \"Scientific-Research-Idea-Generator\"\n",
    "tools = [{\"type\": [\"code_interpreter\", \"retrieval\", \"function\"]}]\n",
    "model = \"gpt-4\""
   ]
  },
  {
   "cell_type": "code",
   "execution_count": null,
   "metadata": {},
   "outputs": [],
   "source": [
    "my_assistant = client.beta.assistants.create(\n",
    "    description=description,\n",
    "    instructions=instructions,\n",
    "    name=name,\n",
    "    tools=tools,\n",
    "    model=model\n",
    ")"
   ]
  },
  {
   "cell_type": "markdown",
   "metadata": {},
   "source": [
    "**Append the new assistant instance to local assistant list**"
   ]
  },
  {
   "cell_type": "code",
   "execution_count": 28,
   "metadata": {},
   "outputs": [],
   "source": [
    "my_assistant_id = my_assistant.get('id')\n",
    "\n",
    "file_path = \"./data/assistant_list.json\"\n",
    "try:\n",
    "    with open(file_path, 'r') as file:\n",
    "        list_file = js.load(file)\n",
    "    \n",
    "    if not list_file:\n",
    "        # the list is empty\n",
    "        list_file = {\"data\": []}\n",
    "        list_file['data'].append(my_assistant)\n",
    "    else:\n",
    "        for i, item in enumerate(list_file['data']):\n",
    "            if item['id'] == my_assistant_id:\n",
    "                list_file['data'][i] = my_assistant\n",
    "                break\n",
    "    with open(file_path, 'w') as file:\n",
    "        js.dump(list_file, file, indent=4)  \n",
    "\n",
    "except FileNotFoundError:\n",
    "    print(f\"File not found: {file_path}\")\n",
    "except js.JSONDecodeError:\n",
    "    print(\"Invalid JSON file.\")\n",
    "except Exception as e:\n",
    "    print(f\"An unexpected error occurred: {e}\")"
   ]
  },
  {
   "cell_type": "markdown",
   "metadata": {},
   "source": [
    "**Upload Files from ./data/assistant_files/\\* to the OpenAI server**"
   ]
  },
  {
   "cell_type": "code",
   "execution_count": null,
   "metadata": {},
   "outputs": [],
   "source": [
    "assistant_file_path = \"./data/assistant_files/\"\n",
    "file_count = len([name for name in os.listdir(assistant_file_path) if os.path.isfile(os.path.join(assistant_file_path, name))])\n",
    "print(f\"Number of files: {file_count}\")\n",
    "\n",
    "for file_name in os.listdir(assistant_file_path):\n",
    "    file_path = os.path.join(assistant_file_path, file_name)\n",
    "    \n",
    "    if os.path.isfile(file_path):\n",
    "        client.files.create(\n",
    "            file=open(file_path, \"rb\"),\n",
    "            purpose=\"assistants\"\n",
    "        )"
   ]
  },
  {
   "cell_type": "code",
   "execution_count": 20,
   "metadata": {},
   "outputs": [
    {
     "name": "stdout",
     "output_type": "stream",
     "text": [
      "Retrieved 2 of files\n"
     ]
    }
   ],
   "source": [
    "# Function to retrieve all files for \"assistant\"\n",
    "def get_assitant_files(json_data):\n",
    "    retrieved_files = []\n",
    "    for item in json_data.get('data', []):\n",
    "        if item.get('purpose') == \"assistants\":\n",
    "            retrieved_files.append(item.get(\"id\"))\n",
    "    \n",
    "    return retrieved_files\n",
    "\n",
    "list_files = client.files.list()\n",
    "list_files = js.loads(list_files)\n",
    "\n",
    "if len(list_files[\"data\"]) == 0:\n",
    "    print(\"No file was uploaded\")\n",
    "else:\n",
    "    retrieved_files = get_assitant_files(list_files)\n",
    "\n",
    "print(f\"Retrieved {len(retrieved_files)} of files\")"
   ]
  },
  {
   "cell_type": "markdown",
   "metadata": {},
   "source": [
    "**Bind assistant with assistant files**"
   ]
  },
  {
   "cell_type": "code",
   "execution_count": null,
   "metadata": {},
   "outputs": [],
   "source": [
    "original_number_of_files = len(my_assistant.get('file_ids'))\n",
    "\n",
    "for file_id in retrieved_files:\n",
    "  assistant_file = client.beta.assistants.files.create(\n",
    "    assistant_id=my_assistant_id,\n",
    "    file_id=file_id\n",
    "  )\n",
    "\n",
    "my_assistant = client.beta.assistants.retrieve(my_assistant_id)\n",
    "new_number_of_files = len(my_assistant.get('file_ids'))\n",
    "print(f\"{new_number_of_files-original_number_of_files} of files added.\")"
   ]
  },
  {
   "cell_type": "code",
   "execution_count": null,
   "metadata": {},
   "outputs": [],
   "source": []
  }
 ],
 "metadata": {
  "kernelspec": {
   "display_name": "medical-chat",
   "language": "python",
   "name": "medical-chat"
  },
  "language_info": {
   "codemirror_mode": {
    "name": "ipython",
    "version": 3
   },
   "file_extension": ".py",
   "mimetype": "text/x-python",
   "name": "python",
   "nbconvert_exporter": "python",
   "pygments_lexer": "ipython3",
   "version": "3.10.13"
  }
 },
 "nbformat": 4,
 "nbformat_minor": 2
}
