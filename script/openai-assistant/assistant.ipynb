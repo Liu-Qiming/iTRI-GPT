{
 "cells": [
  {
   "cell_type": "code",
   "execution_count": 3,
   "metadata": {
    "collapsed": false,
    "pycharm": {
     "is_executing": true,
     "name": "#%%\n"
    }
   },
   "outputs": [],
   "source": [
    "import os\n",
    "\n",
    "import json as js\n",
    "from openai import OpenAI\n",
    "from src.assistant import *"
   ]
  },
  {
   "cell_type": "code",
   "execution_count": 4,
   "metadata": {
    "collapsed": false,
    "pycharm": {
     "name": "#%%\n"
    }
   },
   "outputs": [],
   "source": [
    "api_key = None\n",
    "with open(\"../../.api-key\", \"r\") as f:\n",
    "    api_key = f.read().splitlines()[0]\n",
    "    \n",
    "## TODO: remove this line to get the original api-key ##\n",
    "api_key+=\"abc\"\n",
    "#################### END TODO ##########################\n",
    "\n",
    "client = OpenAI(api_key = api_key)"
   ]
  },
  {
   "cell_type": "markdown",
   "metadata": {
    "collapsed": false,
    "pycharm": {
     "name": "#%% md\n"
    }
   },
   "source": [
    "**Setup assistant**"
   ]
  },
  {
   "cell_type": "code",
   "execution_count": 5,
   "metadata": {
    "collapsed": false,
    "pycharm": {
     "name": "#%%\n"
    }
   },
   "outputs": [],
   "source": [
    "description = \"\"\"\"\"\"\n",
    "instructions = \"\"\"\"\"\"\n",
    "name = \"Scientific-Research-Idea-Generator\"\n",
    "tools = [{\"type\": [\"code_interpreter\", \"retrieval\", \"function\"]}]\n",
    "model = \"gpt-4\""
   ]
  },
  {
   "cell_type": "code",
   "execution_count": null,
   "metadata": {
    "collapsed": false,
    "pycharm": {
     "name": "#%%\n"
    }
   },
   "outputs": [],
   "source": [
    "my_assistant = client.beta.assistants.create(\n",
    "    description=description,\n",
    "    instructions=instructions,\n",
    "    name=name,\n",
    "    tools=tools,\n",
    "    model=model\n",
    ")"
   ]
  },
  {
   "cell_type": "markdown",
   "metadata": {
    "collapsed": false,
    "pycharm": {
     "name": "#%% md\n"
    }
   },
   "source": [
    "**Append the new assistant instance to local assistant list**"
   ]
  },
  {
   "cell_type": "code",
   "execution_count": 9,
   "metadata": {
    "collapsed": false,
    "pycharm": {
     "name": "#%%\n"
    }
   },
   "outputs": [],
   "source": [
    "my_assistant_id = my_assistant.get('id')\n",
    "file_path = \"./data/assistant_list.json\"\n",
    "\n",
    "updated_list, error = manage_assistant_file(file_path, my_assistant)\n",
    "if error:\n",
    "    print(error)"
   ]
  },
  {
   "cell_type": "markdown",
   "metadata": {
    "collapsed": false,
    "pycharm": {
     "name": "#%% md\n"
    }
   },
   "source": [
    "**Upload Files from ./data/assistant_files/\\* to the OpenAI server**"
   ]
  },
  {
   "cell_type": "code",
   "execution_count": null,
   "metadata": {
    "collapsed": false,
    "pycharm": {
     "name": "#%%\n"
    }
   },
   "outputs": [],
   "source": [
    "assistant_file_path = \"./data/assistant_files/\"\n",
    "files = list_assistant_file_names(assistant_file_path)\n",
    "print(f\"Number of files: {len(files)}\")\n",
    "\n",
    "for file_name in files:\n",
    "    file_path = os.path.join(assistant_file_path, file_name)\n",
    "    \n",
    "    if os.path.isfile(file_path):\n",
    "        client.files.create(\n",
    "            file=open(file_path, \"rb\"),\n",
    "            purpose=\"assistants\"\n",
    "        )"
   ]
  },
  {
   "cell_type": "code",
   "execution_count": null,
   "metadata": {
    "collapsed": false,
    "pycharm": {
     "name": "#%%\n"
    }
   },
   "outputs": [],
   "source": [
    "list_files = client.files.list()\n",
    "list_files = js.loads(list_files)\n",
    "\n",
    "if len(list_files[\"data\"]) == 0:\n",
    "    print(\"No file was uploaded\")\n",
    "else:\n",
    "    retrieved_files = get_assitant_files(list_files)\n",
    "\n",
    "print(f\"Retrieved {len(retrieved_files)} of files\")"
   ]
  },
  {
   "cell_type": "markdown",
   "metadata": {
    "collapsed": false,
    "pycharm": {
     "name": "#%% md\n"
    }
   },
   "source": [
    "**Bind assistant with assistant files**"
   ]
  },
  {
   "cell_type": "code",
   "execution_count": null,
   "metadata": {
    "collapsed": false,
    "pycharm": {
     "name": "#%%\n"
    }
   },
   "outputs": [],
   "source": [
    "original_number_of_files = len(my_assistant.get('file_ids'))\n",
    "\n",
    "for file_id in retrieved_files:\n",
    "  assistant_file = client.beta.assistants.files.create(\n",
    "    assistant_id=my_assistant_id,\n",
    "    file_id=file_id\n",
    "  )\n",
    "\n",
    "my_assistant = client.beta.assistants.retrieve(my_assistant_id)\n",
    "new_number_of_files = len(my_assistant.get('file_ids'))\n",
    "print(f\"{new_number_of_files-original_number_of_files} of files added.\")"
   ]
  },
  {
   "cell_type": "markdown",
   "metadata": {},
   "source": [
    "**Create a Thread**"
   ]
  },
  {
   "cell_type": "code",
   "execution_count": null,
   "metadata": {},
   "outputs": [],
   "source": [
    "thread = client.beta.threads.create()"
   ]
  },
  {
   "cell_type": "markdown",
   "metadata": {},
   "source": [
    "**Add a Message to this Thread**"
   ]
  },
  {
   "cell_type": "code",
   "execution_count": 1,
   "metadata": {},
   "outputs": [],
   "source": [
    "content = \"\"\"\"\"\""
   ]
  },
  {
   "cell_type": "code",
   "execution_count": null,
   "metadata": {},
   "outputs": [],
   "source": [
    "message = client.beta.threads.messages.create(\n",
    "    thread_id=thread.id,\n",
    "    role=\"user\",\n",
    "    content=content\n",
    ")\n",
    "\n",
    "run = client.beta.threads.runs.create(\n",
    "  thread_id=thread.id,\n",
    "  assistant_id=my_assistant.id\n",
    ")\n",
    "\n",
    "messages = client.beta.threads.messages.list(\n",
    "  thread_id=thread.id\n",
    ")\n",
    "print(messages)\n",
    "\n",
    "create_and_dump_messages(messages, \"./data/thread_history/history_{}\".format(str(my_assistant_id)+\"_\"+str(thread.id)))"
   ]
  }
 ],
 "metadata": {
  "kernelspec": {
   "display_name": "medical-chat",
   "language": "python",
   "name": "medical-chat"
  },
  "language_info": {
   "codemirror_mode": {
    "name": "ipython",
    "version": 3
   },
   "file_extension": ".py",
   "mimetype": "text/x-python",
   "name": "python",
   "nbconvert_exporter": "python",
   "pygments_lexer": "ipython3",
   "version": "3.10.13"
  }
 },
 "nbformat": 4,
 "nbformat_minor": 2
}
